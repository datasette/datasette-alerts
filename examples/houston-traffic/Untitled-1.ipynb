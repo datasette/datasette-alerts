{
 "cells": [
  {
   "cell_type": "code",
   "execution_count": 1,
   "id": "6fdebfaa",
   "metadata": {
    "vscode": {
     "languageId": "sql"
    }
   },
   "outputs": [
    {
     "data": {
      "text/plain": [
       "Opened database at incidents.db"
      ]
     },
     "metadata": {},
     "output_type": "display_data"
    },
    {
     "data": {
      "text/plain": [
       "Loaded 'sqlite-jiff' with uv from /Users/alex/.cache/uv/archive-v0/d6A5MYIS90Hhn7pVdSMKK/lib/python3.13/site-packages/sqlite_jiff/jiff0.dylib"
      ]
     },
     "metadata": {},
     "output_type": "display_data"
    },
    {
     "data": {
      "text/html": [
       "<div>\n",
       "<style>td {text-align: right;}</style><table>\n",
       "<thead>\n",
       "<tr style=\"text-align: center;\">\n",
       "</tr>\n",
       "</thead>\n",
       "<tbody>\n",
       "</tbody>\n",
       "</table>\n",
       "<div>\n",
       "0 column × 0 row\n",
       "</div>\n",
       "</div>\n"
      ],
      "text/plain": [
       "attach database 'backlog.db' as backlog;"
      ]
     },
     "metadata": {},
     "output_type": "display_data"
    }
   ],
   "source": [
    ".open incidents.db\n",
    "--.load /Users/alex/projects/sqlite-jiff/dist/debug/jiff0\n",
    ".load uv:sqlite-jiff\n",
    "attach database 'backlog.db' as backlog;"
   ]
  },
  {
   "cell_type": "code",
   "execution_count": 2,
   "id": "49c3dc14",
   "metadata": {
    "vscode": {
     "languageId": "sql"
    }
   },
   "outputs": [
    {
     "data": {
      "text/html": [
       "<div>\n",
       "<style>td {text-align: right;}</style><table>\n",
       "<thead>\n",
       "<tr style=\"text-align: center;\">\n",
       "</tr>\n",
       "</thead>\n",
       "<tbody>\n",
       "</tbody>\n",
       "</table>\n",
       "<div>\n",
       "0 column × 0 row\n",
       "</div>\n",
       "</div>\n"
      ],
      "text/plain": [
       "drop table if exists calls;"
      ]
     },
     "metadata": {},
     "output_type": "display_data"
    },
    {
     "data": {
      "text/html": [
       "<div>\n",
       "<style>td {text-align: right;}</style><table>\n",
       "<thead>\n",
       "<tr style=\"text-align: center;\">\n",
       "</tr>\n",
       "</thead>\n",
       "<tbody>\n",
       "</tbody>\n",
       "</table>\n",
       "<div>\n",
       "0 column × 0 row\n",
       "</div>\n",
       "</div>\n"
      ],
      "text/plain": [
       "create table calls(\n",
       "  uid integer primary key,\n",
       "  agency text,\n",
       "  address text,\n",
       "  cross_street text,\n",
       "  call_at text,\n",
       "  incident_type text,\n",
       "  alarm_level text,\n",
       "  no_units integer,\n",
       "  units text,\n",
       "  longitude real,\n",
       "  latitude real,\n",
       "  key_map text,\n",
       "  combined_response text\n",
       ");"
      ]
     },
     "metadata": {},
     "output_type": "display_data"
    },
    {
     "data": {
      "text/html": [
       "<div>\n",
       "<style>td {text-align: right;}</style><table>\n",
       "<thead>\n",
       "<tr style=\"text-align: center;\">\n",
       "</tr>\n",
       "</thead>\n",
       "<tbody>\n",
       "</tbody>\n",
       "</table>\n",
       "<div>\n",
       "0 column × 0 row\n",
       "</div>\n",
       "</div>\n"
      ],
      "text/plain": [
       "drop table if exists checkpoint;"
      ]
     },
     "metadata": {},
     "output_type": "display_data"
    },
    {
     "data": {
      "text/html": [
       "<div>\n",
       "<style>td {text-align: right;}</style><table>\n",
       "<thead>\n",
       "<tr style=\"text-align: center;\">\n",
       "</tr>\n",
       "</thead>\n",
       "<tbody>\n",
       "</tbody>\n",
       "</table>\n",
       "<div>\n",
       "0 column × 0 row\n",
       "</div>\n",
       "</div>\n"
      ],
      "text/plain": [
       "create table checkpoint(cursor timestamp);"
      ]
     },
     "metadata": {},
     "output_type": "display_data"
    },
    {
     "data": {
      "text/html": [
       "<div>\n",
       "<style>td {text-align: right;}</style><table>\n",
       "<thead>\n",
       "<tr style=\"text-align: center;\">\n",
       "</tr>\n",
       "</thead>\n",
       "<tbody>\n",
       "</tbody>\n",
       "</table>\n",
       "<div>\n",
       "0 column × 0 row\n",
       "</div>\n",
       "</div>\n"
      ],
      "text/plain": [
       "create index checkpoint_cursor on checkpoint(cursor);"
      ]
     },
     "metadata": {},
     "output_type": "display_data"
    }
   ],
   "source": [
    "drop table if exists calls;\n",
    "create table calls(\n",
    "  uid integer primary key,\n",
    "  agency text,\n",
    "  address text,\n",
    "  cross_street text,\n",
    "  call_at text,\n",
    "  incident_type text,\n",
    "  alarm_level text,\n",
    "  no_units integer,\n",
    "  units text,\n",
    "  longitude real,\n",
    "  latitude real,\n",
    "  key_map text,\n",
    "  combined_response text\n",
    ");\n",
    "\n",
    "drop table if exists checkpoint;\n",
    "create table checkpoint(cursor timestamp);\n",
    "create index checkpoint_cursor on checkpoint(cursor);"
   ]
  },
  {
   "cell_type": "code",
   "execution_count": 3,
   "id": "b24b0489",
   "metadata": {
    "vscode": {
     "languageId": "sql"
    }
   },
   "outputs": [
    {
     "data": {
      "text/html": [
       "<div>\n",
       "<style>td {text-align: right;}</style><table>\n",
       "<thead>\n",
       "<tr style=\"text-align: center;\">\n",
       "<th>\n",
       "min(time)\n",
       "</th>\n",
       "<th>\n",
       "max(time)\n",
       "</th>\n",
       "<th>\n",
       "spread\n",
       "</th>\n",
       "</tr>\n",
       "</thead>\n",
       "<tbody>\n",
       "<tr>\n",
       "<td >\n",
       "2025-05-20 05:40:01 +0000\n",
       "</td>\n",
       "<td >\n",
       "2025-05-31 17:09:49 +0000\n",
       "</td>\n",
       "<td >\n",
       "11 days, 11 hours, 29 minutes, 48 seconds\n",
       "</td>\n",
       "</tr>\n",
       "</tbody>\n",
       "</table>\n",
       "<div>\n",
       "3 columns × 1 row\n",
       "</div>\n",
       "</div>\n"
      ],
      "text/plain": [
       "select \n",
       "  min(time),\n",
       "  max(time),\n",
       "  jiff_until(\n",
       "    jiff_datetime_strptime('%Y-%m-%d %H:%M:%S %z', min(time)), \n",
       "    jiff_datetime_strptime('%Y-%m-%d %H:%M:%S %z', max(time))\n",
       "  ) as spread\n",
       "from backlog.version;"
      ]
     },
     "metadata": {},
     "output_type": "display_data"
    }
   ],
   "source": [
    "select \n",
    "  min(time),\n",
    "  max(time),\n",
    "  jiff_until(\n",
    "    jiff_datetime_strptime('%Y-%m-%d %H:%M:%S %z', min(time)), \n",
    "    jiff_datetime_strptime('%Y-%m-%d %H:%M:%S %z', max(time))\n",
    "  ) as spread\n",
    "from backlog.version;"
   ]
  },
  {
   "cell_type": "code",
   "execution_count": 4,
   "id": "efef083f",
   "metadata": {
    "vscode": {
     "languageId": "sql"
    }
   },
   "outputs": [
    {
     "data": {
      "text/html": [
       "<div>\n",
       "<style>td {text-align: right;}</style><table>\n",
       "<thead>\n",
       "<tr style=\"text-align: center;\">\n",
       "<th>\n",
       "rowid\n",
       "</th>\n",
       "<th>\n",
       "time\n",
       "</th>\n",
       "<th>\n",
       "next_time\n",
       "</th>\n",
       "<th>\n",
       "duration\n",
       "</th>\n",
       "</tr>\n",
       "</thead>\n",
       "<tbody>\n",
       "<tr>\n",
       "<td >\n",
       "1\n",
       "</td>\n",
       "<td >\n",
       "2025-05-31 17:09:49 +0000\n",
       "</td>\n",
       "<td >\n",
       "2025-05-31 16:53:51 +0000\n",
       "</td>\n",
       "<td >\n",
       "15 minutes, 58 seconds ago\n",
       "</td>\n",
       "</tr>\n",
       "<tr>\n",
       "<td >\n",
       "2\n",
       "</td>\n",
       "<td >\n",
       "2025-05-31 16:53:51 +0000\n",
       "</td>\n",
       "<td >\n",
       "2025-05-31 16:42:26 +0000\n",
       "</td>\n",
       "<td >\n",
       "11 minutes, 25 seconds ago\n",
       "</td>\n",
       "</tr>\n",
       "<tr>\n",
       "<td >\n",
       "3\n",
       "</td>\n",
       "<td >\n",
       "2025-05-31 16:42:26 +0000\n",
       "</td>\n",
       "<td >\n",
       "2025-05-31 16:29:51 +0000\n",
       "</td>\n",
       "<td >\n",
       "12 minutes, 35 seconds ago\n",
       "</td>\n",
       "</tr>\n",
       "<tr>\n",
       "<td >\n",
       "4\n",
       "</td>\n",
       "<td >\n",
       "2025-05-31 16:29:51 +0000\n",
       "</td>\n",
       "<td >\n",
       "2025-05-31 16:10:23 +0000\n",
       "</td>\n",
       "<td >\n",
       "19 minutes, 28 seconds ago\n",
       "</td>\n",
       "</tr>\n",
       "<tr>\n",
       "<td >\n",
       "5\n",
       "</td>\n",
       "<td >\n",
       "2025-05-31 16:10:23 +0000\n",
       "</td>\n",
       "<td >\n",
       "2025-05-31 15:52:30 +0000\n",
       "</td>\n",
       "<td >\n",
       "17 minutes, 53 seconds ago\n",
       "</td>\n",
       "</tr>\n",
       "<tr>\n",
       "<td >\n",
       "6\n",
       "</td>\n",
       "<td >\n",
       "2025-05-31 15:52:30 +0000\n",
       "</td>\n",
       "<td >\n",
       "2025-05-31 15:38:30 +0000\n",
       "</td>\n",
       "<td >\n",
       "14 minutes ago\n",
       "</td>\n",
       "</tr>\n",
       "<tr>\n",
       "<td >\n",
       "7\n",
       "</td>\n",
       "<td >\n",
       "2025-05-31 15:38:30 +0000\n",
       "</td>\n",
       "<td >\n",
       "2025-05-31 15:26:33 +0000\n",
       "</td>\n",
       "<td >\n",
       "11 minutes, 57 seconds ago\n",
       "</td>\n",
       "</tr>\n",
       "<tr>\n",
       "<td >\n",
       "8\n",
       "</td>\n",
       "<td >\n",
       "2025-05-31 15:26:33 +0000\n",
       "</td>\n",
       "<td >\n",
       "2025-05-31 15:10:02 +0000\n",
       "</td>\n",
       "<td >\n",
       "16 minutes, 31 seconds ago\n",
       "</td>\n",
       "</tr>\n",
       "<tr>\n",
       "<td >\n",
       "9\n",
       "</td>\n",
       "<td >\n",
       "2025-05-31 15:10:02 +0000\n",
       "</td>\n",
       "<td >\n",
       "2025-05-31 14:52:25 +0000\n",
       "</td>\n",
       "<td >\n",
       "17 minutes, 37 seconds ago\n",
       "</td>\n",
       "</tr>\n",
       "<tr>\n",
       "<td >\n",
       "10\n",
       "</td>\n",
       "<td >\n",
       "2025-05-31 14:52:25 +0000\n",
       "</td>\n",
       "<td >\n",
       "2025-05-31 14:39:13 +0000\n",
       "</td>\n",
       "<td >\n",
       "13 minutes, 12 seconds ago\n",
       "</td>\n",
       "</tr>\n",
       "</tbody>\n",
       "</table>\n",
       "<div>\n",
       "4 columns × 10 rows\n",
       "</div>\n",
       "</div>\n"
      ],
      "text/plain": [
       "with paired as (\n",
       "  select rowid, *, lead(time, 1) over (order by rowid) as next_time\n",
       "  from backlog.version\n",
       ")\n",
       "  select \n",
       "  rowid, \n",
       "  time,\n",
       "  next_time,\n",
       "  iif(next_time is not null, \n",
       "    jiff_until(\n",
       "      jiff_datetime_strptime('%Y-%m-%d %H:%M:%S %z', time), \n",
       "      jiff_datetime_strptime('%Y-%m-%d %H:%M:%S %z', next_time)\n",
       "    )\n",
       "  ) as duration\n",
       "from paired\n",
       "limit 10;"
      ]
     },
     "metadata": {},
     "output_type": "display_data"
    }
   ],
   "source": [
    "with paired as (\n",
    "  select rowid, *, lead(time, 1) over (order by rowid) as next_time\n",
    "  from backlog.version\n",
    ")\n",
    "  select \n",
    "  rowid, \n",
    "  time,\n",
    "  next_time,\n",
    "  iif(next_time is not null, \n",
    "    jiff_until(\n",
    "      jiff_datetime_strptime('%Y-%m-%d %H:%M:%S %z', time), \n",
    "      jiff_datetime_strptime('%Y-%m-%d %H:%M:%S %z', next_time)\n",
    "    )\n",
    "  ) as duration\n",
    "from paired\n",
    "limit 10;"
   ]
  },
  {
   "cell_type": "code",
   "execution_count": 5,
   "id": "db2a9241",
   "metadata": {
    "vscode": {
     "languageId": "sql"
    }
   },
   "outputs": [
    {
     "data": {
      "text/html": [
       "<div>\n",
       "<style>td {text-align: right;}</style><table>\n",
       "<thead>\n",
       "<tr style=\"text-align: center;\">\n",
       "</tr>\n",
       "</thead>\n",
       "<tbody>\n",
       "</tbody>\n",
       "</table>\n",
       "<div>\n",
       "0 column × 0 row\n",
       "</div>\n",
       "</div>\n"
      ],
      "text/plain": [
       "begin;"
      ]
     },
     "metadata": {},
     "output_type": "display_data"
    },
    {
     "data": {
      "text/plain": [
       "set parameter : noop"
      ]
     },
     "metadata": {},
     "output_type": "display_data"
    },
    {
     "data": {
      "text/html": [
       "<div>\n",
       "<style>td {text-align: right;}</style><table>\n",
       "<thead>\n",
       "<tr style=\"text-align: center;\">\n",
       "</tr>\n",
       "</thead>\n",
       "<tbody>\n",
       "</tbody>\n",
       "</table>\n",
       "<div>\n",
       "0 column × 0 row\n",
       "</div>\n",
       "</div>\n"
      ],
      "text/plain": [
       "insert or replace into temp.sqlite_parameters(key, value) values\n",
       "  (\n",
       "    'cursor', \n",
       "    iif(\n",
       "      (select count(*) from checkpoint) = 0,\n",
       "      (select min(time) from backlog.version),\n",
       "      (select max(cursor) from checkpoint)\n",
       "  )\n",
       ");"
      ]
     },
     "metadata": {},
     "output_type": "display_data"
    },
    {
     "data": {
      "text/html": [
       "<div>\n",
       "<style>td {text-align: right;}</style><table>\n",
       "<thead>\n",
       "<tr style=\"text-align: center;\">\n",
       "</tr>\n",
       "</thead>\n",
       "<tbody>\n",
       "</tbody>\n",
       "</table>\n",
       "<div>\n",
       "0 column × 0 row\n",
       "</div>\n",
       "</div>\n"
      ],
      "text/plain": [
       "insert or ignore into calls\n",
       "  select \n",
       "    value ->> '$.attributes.UID'               as uid,\n",
       "    value ->> '$.attributes.Agency'            as agency,\n",
       "    value ->> '$.attributes.Address'           as address,\n",
       "    value ->> '$.attributes.CrossStreet'       as cross_street,\n",
       "    jiff_timestamp_from_ms(\n",
       "      value ->> '$.attributes.CALL_TIME'\n",
       "    ) as call_at,\n",
       "    value ->> '$.attributes.IncidentType'      as incident_type,\n",
       "    value ->> '$.attributes.ALARM_LEVEL'       as alarm_level,\n",
       "    value ->> '$.attributes.NO_UNITS'          as no_units,\n",
       "    value ->> '$.attributes.Units'             as units,\n",
       "    value ->> '$.attributes.LONGITUDE'         as longitude,\n",
       "    value ->> '$.attributes.LATITUDE'          as latitude,\n",
       "    value ->> '$.attributes.KeyMap'            as key_map,\n",
       "    value ->> '$.attributes.CombinedResponse'  as combined_response\n",
       "  from json_each(\n",
       "    --readfile('getIncidentsGit/data.json'),\n",
       "    (\n",
       "      select data_json \n",
       "      from backlog.version \n",
       "      where time > :cursor\n",
       "      order by time asc\n",
       "      limit 1\n",
       "    ),\n",
       "    '$.features'\n",
       "  );"
      ]
     },
     "metadata": {},
     "output_type": "display_data"
    },
    {
     "data": {
      "text/html": [
       "<div>\n",
       "<style>td {text-align: right;}</style><table>\n",
       "<thead>\n",
       "<tr style=\"text-align: center;\">\n",
       "<th>\n",
       ":cursor\n",
       "</th>\n",
       "<th>\n",
       "changes()\n",
       "</th>\n",
       "</tr>\n",
       "</thead>\n",
       "<tbody>\n",
       "<tr>\n",
       "<td >\n",
       "2025-05-20 05:40:01 +0000\n",
       "</td>\n",
       "<td >\n",
       "49\n",
       "</td>\n",
       "</tr>\n",
       "</tbody>\n",
       "</table>\n",
       "<div>\n",
       "2 columns × 1 row\n",
       "</div>\n",
       "</div>\n"
      ],
      "text/plain": [
       "select :cursor, changes();"
      ]
     },
     "metadata": {},
     "output_type": "display_data"
    },
    {
     "data": {
      "text/html": [
       "<div>\n",
       "<style>td {text-align: right;}</style><table>\n",
       "<thead>\n",
       "<tr style=\"text-align: center;\">\n",
       "</tr>\n",
       "</thead>\n",
       "<tbody>\n",
       "</tbody>\n",
       "</table>\n",
       "<div>\n",
       "0 column × 0 row\n",
       "</div>\n",
       "</div>\n"
      ],
      "text/plain": [
       "insert into checkpoint(cursor) values (\n",
       "    (\n",
       "       select time\n",
       "      from backlog.version \n",
       "      where time > :cursor\n",
       "      order by time asc\n",
       "      limit 1\n",
       "    )\n",
       "  );"
      ]
     },
     "metadata": {},
     "output_type": "display_data"
    },
    {
     "data": {
      "text/html": [
       "<div>\n",
       "<style>td {text-align: right;}</style><table>\n",
       "<thead>\n",
       "<tr style=\"text-align: center;\">\n",
       "</tr>\n",
       "</thead>\n",
       "<tbody>\n",
       "</tbody>\n",
       "</table>\n",
       "<div>\n",
       "0 column × 0 row\n",
       "</div>\n",
       "</div>\n"
      ],
      "text/plain": [
       "commit;"
      ]
     },
     "metadata": {},
     "output_type": "display_data"
    }
   ],
   "source": [
    "begin;\n",
    ".param set noop 1\n",
    "\n",
    "insert or replace into temp.sqlite_parameters(key, value) values\n",
    "  (\n",
    "    'cursor', \n",
    "    iif(\n",
    "      (select count(*) from checkpoint) = 0,\n",
    "      (select min(time) from backlog.version),\n",
    "      (select max(cursor) from checkpoint)\n",
    "  )\n",
    ");\n",
    "\n",
    "insert or ignore into calls\n",
    "  select \n",
    "    value ->> '$.attributes.UID'               as uid,\n",
    "    value ->> '$.attributes.Agency'            as agency,\n",
    "    value ->> '$.attributes.Address'           as address,\n",
    "    value ->> '$.attributes.CrossStreet'       as cross_street,\n",
    "    jiff_timestamp_from_ms(\n",
    "      value ->> '$.attributes.CALL_TIME'\n",
    "    ) as call_at,\n",
    "    value ->> '$.attributes.IncidentType'      as incident_type,\n",
    "    value ->> '$.attributes.ALARM_LEVEL'       as alarm_level,\n",
    "    value ->> '$.attributes.NO_UNITS'          as no_units,\n",
    "    value ->> '$.attributes.Units'             as units,\n",
    "    value ->> '$.attributes.LONGITUDE'         as longitude,\n",
    "    value ->> '$.attributes.LATITUDE'          as latitude,\n",
    "    value ->> '$.attributes.KeyMap'            as key_map,\n",
    "    value ->> '$.attributes.CombinedResponse'  as combined_response\n",
    "  from json_each(\n",
    "    --readfile('getIncidentsGit/data.json'),\n",
    "    (\n",
    "      select data_json \n",
    "      from backlog.version \n",
    "      where time > :cursor\n",
    "      order by time asc\n",
    "      limit 1\n",
    "    ),\n",
    "    '$.features'\n",
    "  );\n",
    "  select :cursor, changes();\n",
    "  insert into checkpoint(cursor) values (\n",
    "    (\n",
    "       select time\n",
    "      from backlog.version \n",
    "      where time > :cursor\n",
    "      order by time asc\n",
    "      limit 1\n",
    "    )\n",
    "  );\n",
    "commit;"
   ]
  }
 ],
 "metadata": {
  "kernelspec": {
   "display_name": "Solite",
   "language": "sql",
   "name": "solite"
  },
  "language_info": {
   "codemirror_mode": "sql",
   "file_extension": ".sql",
   "mimetype": "text/x.sqlite",
   "name": "sqlite",
   "nbconvert_exporter": "script",
   "pygments_lexer": "sqlite",
   "version": "TODO"
  }
 },
 "nbformat": 4,
 "nbformat_minor": 5
}
